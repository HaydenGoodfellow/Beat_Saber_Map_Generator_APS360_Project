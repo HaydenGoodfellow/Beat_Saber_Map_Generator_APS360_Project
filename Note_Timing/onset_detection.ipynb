{
 "metadata": {
  "language_info": {
   "codemirror_mode": {
    "name": "ipython",
    "version": 3
   },
   "file_extension": ".py",
   "mimetype": "text/x-python",
   "name": "python",
   "nbconvert_exporter": "python",
   "pygments_lexer": "ipython3",
   "version": "3.8.3-final"
  },
  "orig_nbformat": 2,
  "kernelspec": {
   "name": "python3",
   "display_name": "Python 3",
   "language": "python"
  }
 },
 "nbformat": 4,
 "nbformat_minor": 2,
 "cells": [
  {
   "cell_type": "code",
   "execution_count": null,
   "metadata": {},
   "outputs": [],
   "source": [
    "pip install librosa"
   ]
  },
  {
   "cell_type": "code",
   "execution_count": 1,
   "metadata": {},
   "outputs": [],
   "source": [
    "import sys\n",
    "import os\n",
    "import numpy as np\n",
    "import pandas as pd\n",
    "import json\n",
    "import pickle\n",
    "from zipfile import ZipFile\n",
    "import librosa"
   ]
  },
  {
   "cell_type": "code",
   "execution_count": 3,
   "metadata": {},
   "outputs": [],
   "source": [
    "# Gets a list of onset times seperated by atleast min_sep time\n",
    "def get_onset_times(song_file, min_sep=0.4):\n",
    "    # Load song \n",
    "    y, samp_rate = librosa.load(song_file)\n",
    "    # Get onset times\n",
    "    onset_times = librosa.onset.onset_detect(y=y, sr=samp_rate, units='time')\n",
    "    # Loop over the array backwards and delete any elements which are too close\n",
    "    del_count = 0\n",
    "    for i in range(len(onset_times) - 1, 0, -1): \n",
    "        if onset_times[i] - onset_times[i - 1] < min_sep:\n",
    "            # Move one to the average of the two times to preserve as many notes as possible\n",
    "            avg_time = (onset_times[i] + onset_times[i - 1]) / 2\n",
    "            onset_times[i] = avg_time\n",
    "            onset_times = np.delete(onset_times, i - 1)\n",
    "            del_count += 1\n",
    "    print(\"Removed {} onset times for being within {}s of the next note\".format(del_count, min_sep))\n",
    "    return onset_times\n"
   ]
  }
 ]
}