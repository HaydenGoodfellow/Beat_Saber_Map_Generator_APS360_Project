{
 "cells": [
  {
   "cell_type": "code",
   "execution_count": 2,
   "metadata": {},
   "outputs": [],
   "source": [
    "import sys\r\n",
    "import os\r\n",
    "import numpy as np\r\n",
    "import pandas as pd\r\n",
    "import string\r\n",
    "from collections import Counter \r\n",
    "import json\r\n",
    "import pickle\r\n",
    "import zipfile"
   ]
  },
  {
   "cell_type": "code",
   "execution_count": 3,
   "metadata": {},
   "outputs": [],
   "source": [
    "# Compute the note placements in one beat map and return a list of placements\r\n",
    "def compute_note_placements(dat_json):\r\n",
    "    # List of all notes, not grouped with notes at same times\r\n",
    "    notes_list = dat_json['_notes']\r\n",
    "    # List of all unique time points that notes are at\r\n",
    "    note_timings = set(notes_list['_time'])\r\n",
    "    # Dictonary mapping time point to list of notes at that time. Beat saber has 3x4 grid of note positions (=12)\r\n",
    "    notes_at_time_point = {note_timing : [0] * 12 for note_timing in note_timings}\r\n",
    "    for note in notes_list:\r\n",
    "        # If it is a bomb then skip as our model doesn't deal with bombs\r\n",
    "        if note['_type'] == 3:\r\n",
    "            continue\r\n",
    "        # 0 - Red, 1 - Blue\r\n",
    "        colour = note['_type'] \r\n",
    "        # 0 - Down, 1 - Up, 2 - Right, 3 - Left,\r\n",
    "        # 4 - Bottom-Right, 5 - Bottom-Left, 6 - Top-Right, 7 - Top-Left\r\n",
    "        # 8 - No Direction\r\n",
    "        direction = note['_cutDirection']\r\n",
    "        # Integer classification based on colour and direction. (Colour * 9 since 9 directions per colour)\r\n",
    "        note_type = colour * 9 + direction + 1 # Plus 1 to account for 0 being no note\r\n",
    "        \r\n",
    "        # Ranges from 0 to 3 (3x4 grid)\r\n",
    "        row = note['lineIndex']\r\n",
    "        # Ranges from 0 to 2 (3x4 grid)\r\n",
    "        col = note['lineLayer']\r\n",
    "\r\n",
    "        # Update the dictionary with the location and type of note\r\n",
    "        notes_at_time_point[note['_time']][row * 4 + col] = note_type\r\n",
    "    \r\n",
    "    return list([tuple(time_point.values() for time_point in notes_at_time_point)])\r\n"
   ]
  },
  {
   "cell_type": "code",
   "execution_count": 4,
   "metadata": {},
   "outputs": [],
   "source": [
    "# Compute the most common note placement across many beat maps\r\n",
    "def compute_most_common_note_placements(maps_df, max_maps=70000):\r\n",
    "    maps_processed = 0\r\n",
    "    # Counter of tuples representing the placement and types of blocks\r\n",
    "    total_placements = Counter()\r\n",
    "    for file_path in maps_df.file_path.unique():\r\n",
    "        if maps_processed > max_maps:\r\n",
    "            break\r\n",
    "        if file_path != \"NOT_FOUND\":\r\n",
    "            with ZipFile(file_path) as folder:\r\n",
    "                filenames = folder.namelist()\r\n",
    "                difficulties_dats = [diff for diff in filenames if diff in [\"Expert.dat\", \"ExpertPlus.dat\"]]\r\n",
    "                for difficulty_dat in difficulties_dats:\r\n",
    "                    with folder.open(difficulty_dat) as diff_dat:\r\n",
    "                        dat_json = json.load(diff_dat)\r\n",
    "                        placement_list = compute_note_placements(dat_json)\r\n",
    "                        total_placements.update(placement_list)\r\n",
    "                        maps_processed += 1\r\n",
    "\r\n"
   ]
  },
  {
   "cell_type": "code",
   "execution_count": 5,
   "metadata": {},
   "outputs": [],
   "source": [
    "# Get maps dataframe from the pickle file\r\n",
    "maps_df = pd.read_pickle(\"downloaded_maps_df.pkl\")"
   ]
  }
 ],
 "metadata": {
  "kernelspec": {
   "display_name": "Python 3.8.3 64-bit (conda)",
   "name": "python383jvsc74a57bd058c7c12f8aebb3b799780e2a952497b720e238e6f3ceeaa6cb2f46c86be22697"
  },
  "language_info": {
   "codemirror_mode": {
    "name": "ipython",
    "version": 3
   },
   "file_extension": ".py",
   "mimetype": "text/x-python",
   "name": "python",
   "nbconvert_exporter": "python",
   "pygments_lexer": "ipython3",
   "version": "3.8.3"
  },
  "orig_nbformat": 2
 },
 "nbformat": 4,
 "nbformat_minor": 2
}