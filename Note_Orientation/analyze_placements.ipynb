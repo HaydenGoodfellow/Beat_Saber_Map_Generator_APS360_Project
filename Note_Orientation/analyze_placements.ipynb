{
 "cells": [
  {
   "cell_type": "code",
   "execution_count": null,
   "metadata": {},
   "outputs": [],
   "source": [
    "import sys\r\n",
    "import os\r\n",
    "import numpy as np\r\n",
    "import pandas as pd\r\n",
    "import string\r\n",
    "from collections import Counter \r\n",
    "import json\r\n",
    "import pickle\r\n",
    "from zipfile import ZipFile"
   ]
  },
  {
   "cell_type": "code",
   "execution_count": null,
   "metadata": {},
   "outputs": [],
   "source": [
    "note_types = { # Direction is the direction one must cut the note \r\n",
    "    0   : \"No Note\",\r\n",
    "    1   : \"Red Up\",\r\n",
    "    2   : \"Red Down\",\r\n",
    "    3   : \"Red Right\",\r\n",
    "    4   : \"Red Left\",\r\n",
    "    5   : \"Red Down-Right\",\r\n",
    "    6   : \"Red Down-Left\",\r\n",
    "    7   : \"Red Up-Right\",\r\n",
    "    8   : \"Red Up-Left\",\r\n",
    "    9   : \"Red No Dir\",\r\n",
    "    10  : \"Blue Up\",\r\n",
    "    11  : \"Blue Down\",\r\n",
    "    12  : \"Blue Right\",\r\n",
    "    13  : \"Blue Left\",\r\n",
    "    14  : \"Blue Down-Right\",\r\n",
    "    15  : \"Blue Down-Left\",\r\n",
    "    16  : \"Blue Up-Right\",\r\n",
    "    17  : \"Blue Up-Left\",\r\n",
    "    18  : \"Blue No Dir\",\r\n",
    "}"
   ]
  },
  {
   "cell_type": "code",
   "execution_count": null,
   "metadata": {},
   "outputs": [],
   "source": [
    "# Compute the note placements in one beat map and return a list of placements\r\n",
    "def compute_note_placements(dat_json, file_path):\r\n",
    "    # List of all notes, not grouped with notes at same times\r\n",
    "    notes_list = dat_json['_notes']\r\n",
    "    # List of all unique time points that notes are at\r\n",
    "    note_timings = set([note['_time'] for note in notes_list])\r\n",
    "    # Dictonary mapping time point to list of notes at that time. Beat saber has 3x4 grid of note positions (=12)\r\n",
    "    notes_at_time_point = {note_timing : [0] * 12 for note_timing in note_timings}\r\n",
    "    for note in notes_list:\r\n",
    "        # 0 - Red, 1 - Blue\r\n",
    "        colour = note['_type'] \r\n",
    "        # If it is a bomb then skip as our model doesn't deal with bombs\r\n",
    "        if colour not in [0, 1]:\r\n",
    "            continue\r\n",
    "        # Direction is direction you must cut the note \r\n",
    "        # 0 - Up, 1 - Down, 2 - Right, 3 - Left,\r\n",
    "        # 4 - Down-Right, 5 - Down-Left, 6 - Up-Right, 7 - Up-Left\r\n",
    "        # 8 - No Direction\r\n",
    "        direction = note['_cutDirection']\r\n",
    "\r\n",
    "        # Integer classification based on colour and direction. (Colour * 9 since 9 directions per colour)\r\n",
    "        note_type = colour * 9 + direction + 1 # Plus 1 to account for 0 being no note\r\n",
    "        \r\n",
    "        # Ranges from 0 to 2 (3x4 grid)\r\n",
    "        row = note['_lineLayer']\r\n",
    "        # Ranges from 0 to 3 (3x4 grid)\r\n",
    "        col = note['_lineIndex']\r\n",
    "        # Convert grid location to 1D array location\r\n",
    "        grid_index = row * 4 + col\r\n",
    "        # Prevent mapping and noodle extensions maps from indexing out of bounds (indexes can be negative in these extenstions)\r\n",
    "        if abs(grid_index) > 11: \r\n",
    "            continue # These arent actually notes but something else in mapping extensions\r\n",
    "        # Update the dictionary with the location and type of note (convert grid to 1D array location)\r\n",
    "        try:\r\n",
    "            notes_at_time_point[note['_time']][grid_index] = note_type\r\n",
    "        except Exception as e:\r\n",
    "            print(e, \"row {}, col {}, file path {}, note {}\".format(row, col, file_path, note))\r\n",
    "    \r\n",
    "    # Convert to list of tuples for the counter\r\n",
    "    placement_list = [tuple(placements) for placements in list(notes_at_time_point.values())]\r\n",
    "    # print(\"Number of unique placements found in song: {}\".format(len(set(placement_list))))\r\n",
    "    return placement_list\r\n"
   ]
  },
  {
   "cell_type": "code",
   "execution_count": null,
   "metadata": {},
   "outputs": [],
   "source": [
    "# Compute the most common note placements at time intervals across many beat maps\r\n",
    "def compute_most_common_note_placements(maps_df, num_placements, max_maps=7000):\r\n",
    "    maps_processed = 0\r\n",
    "    # Counter of tuples representing the placement and types of blocks\r\n",
    "    total_placements = Counter()\r\n",
    "    for file_path in maps_df.file_path.unique():\r\n",
    "        if maps_processed > max_maps:\r\n",
    "            break\r\n",
    "        if file_path != \"NOT_FOUND\":\r\n",
    "            with ZipFile(\"../Data_Gather_Filter_Download/{}\".format(file_path)) as folder:\r\n",
    "                filenames = folder.namelist()\r\n",
    "                difficulties_dats = [diff for diff in filenames if diff in [\"Expert.dat\", \"ExpertPlus.dat\"]]\r\n",
    "                for difficulty_dat in difficulties_dats:\r\n",
    "                    with folder.open(difficulty_dat) as diff_dat:\r\n",
    "                        dat_json = json.load(diff_dat)\r\n",
    "                        placement_list = compute_note_placements(dat_json, file_path)\r\n",
    "                        total_placements.update(placement_list)\r\n",
    "                        maps_processed += 1\r\n",
    "    # Done gathering most common placements\r\n",
    "    most_common_placements = [placement for placement, count in total_placements.most_common(num_placements)]\r\n",
    "    \r\n",
    "    # Determine the total number of unique placements we found\r\n",
    "    total_unique_placements = len(total_placements)\r\n",
    "    print(\"Total number of unique placements found: {}. \".format(total_unique_placements))\r\n",
    "\r\n",
    "    # Determine what percent of placements we're removing\r\n",
    "    total_placements_stored = sum(total_placements.values())\r\n",
    "    num_most_common_placements = sum([count for placement, count in total_placements.most_common(num_placements)])\r\n",
    "    print(\"Percentage of placements kept in most common: {}%\".format((num_most_common_placements / total_placements_stored) * 100))\r\n",
    "\r\n",
    "    return most_common_placements"
   ]
  },
  {
   "cell_type": "code",
   "execution_count": null,
   "metadata": {},
   "outputs": [],
   "source": [
    "# Get maps dataframe from the pickle file\r\n",
    "maps_df = pd.read_pickle(\"../Data_Gather_Filter_Download/downloaded_maps_df.pkl\")"
   ]
  },
  {
   "cell_type": "code",
   "execution_count": null,
   "metadata": {},
   "outputs": [],
   "source": [
    "#====================================== Settings ======================================#\r\n",
    "num_most_commmon_placements = 2000  # Number of placements we will save for later\r\n",
    "max_maps_to_process =  16000        # Number of maps to process for the data\r\n",
    "#======================================================================================#\r\n",
    "\r\n",
    "# Calculate the n most common note placements\r\n",
    "most_common_placements = compute_most_common_note_placements(maps_df, num_most_commmon_placements, max_maps_to_process)\r\n",
    "\r\n",
    "# Insert state of no notes at start since once we start sampling that will be the most common state\r\n",
    "most_common_placements.insert(0, [0] * 12)\r\n",
    "\r\n",
    "# Save the most common placements so we can use them as encodings for our model\r\n",
    "with open('most_common_placements.pkl', 'wb') as f:\r\n",
    "    pickle.dump(most_common_placements, f)"
   ]
  },
  {
   "cell_type": "code",
   "execution_count": null,
   "metadata": {},
   "outputs": [],
   "source": [
    "print(len(most_common_placements))\n",
    "print(len(set(most_common_placements)))\n",
    "for i, placement in enumerate(most_common_placements[-10:]):\n",
    "    print(\"\\nMost common placement {}\".format(i + 1))\n",
    "    for row in range(2, -1, -1):\n",
    "        i = row * 4\n",
    "        print(\"{:^20s} {:^20s} {:^20s} {:^20s}\".format(note_types[placement[i]], note_types[placement[i + 1]], note_types[placement[i + 2]], note_types[placement[i + 3]]))\n",
    "    "
   ]
  }
 ],
 "metadata": {
  "kernelspec": {
   "name": "python3",
   "display_name": "Python 3.8.5 32-bit",
   "metadata": {
    "interpreter": {
     "hash": "862cb0aa89210d72b141c4f7795bdb0a37526272faad213c97faf650ef83219d"
    }
   }
  },
  "language_info": {
   "codemirror_mode": {
    "name": "ipython",
    "version": 3
   },
   "file_extension": ".py",
   "mimetype": "text/x-python",
   "name": "python",
   "nbconvert_exporter": "python",
   "pygments_lexer": "ipython3",
   "version": "3.8.5-final"
  },
  "orig_nbformat": 2
 },
 "nbformat": 4,
 "nbformat_minor": 2
}