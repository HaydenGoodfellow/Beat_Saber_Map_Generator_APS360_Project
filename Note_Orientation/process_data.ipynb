{
 "metadata": {
  "language_info": {
   "codemirror_mode": {
    "name": "ipython",
    "version": 3
   },
   "file_extension": ".py",
   "mimetype": "text/x-python",
   "name": "python",
   "nbconvert_exporter": "python",
   "pygments_lexer": "ipython3",
   "version": "3.8.5-final"
  },
  "orig_nbformat": 2,
  "kernelspec": {
   "name": "python3",
   "display_name": "Python 3.8.5 32-bit",
   "metadata": {
    "interpreter": {
     "hash": "862cb0aa89210d72b141c4f7795bdb0a37526272faad213c97faf650ef83219d"
    }
   }
  }
 },
 "nbformat": 4,
 "nbformat_minor": 2,
 "cells": [
  {
   "cell_type": "code",
   "execution_count": 10,
   "metadata": {},
   "outputs": [],
   "source": [
    "import zipfile\n",
    "import os\n",
    "from pathlib import Path\n",
    "\n"
   ]
  },
  {
   "cell_type": "code",
   "execution_count": 27,
   "metadata": {},
   "outputs": [
    {
     "output_type": "stream",
     "name": "stdout",
     "text": [
      "['15767 (Kawaki wo ameku - Aegis)', '15767 (Kawaki wo ameku - Aegis).zip', 'cryforrain.egg', 'ExpertStandard.dat', 'Info.dat', 'NormalStandard.dat', 'test.jpg']\n"
     ]
    }
   ],
   "source": []
  },
  {
   "cell_type": "code",
   "execution_count": 11,
   "metadata": {},
   "outputs": [
    {
     "output_type": "stream",
     "name": "stdout",
     "text": [
      "['15767 (Kawaki wo ameku - Aegis).zip', '159be (coffee and boba - moonunit7).zip']\nc:\\Users\\vedan\\Documents\\GitHub\\Beat_Saber_Map_Generator_APS360_Project\\Note_Orientation\n"
     ]
    }
   ],
   "source": [
    "#extract music data to specified folders, note, need to specify zippedsongs and songdata folders exist\n",
    "allfiles = os.listdir(str(Path().absolute()) + \"\\zippedsongs\")\n",
    "print(allfiles)\n",
    "rootdir = str(Path().absolute())\n",
    "print(str(Path().absolute()) )\n",
    "for mapname in allfiles:\n",
    "    if mapname.endswith(\".zip\"):\n",
    "        if not os.path.exists(rootdir+\"/songdata/\" + mapname[:-4]):\n",
    "            os.mkdir(rootdir+\"/songdata/\" + mapname[:-4])\n",
    "        zip_ref = zipfile.ZipFile(rootdir + \"\\\\zippedsongs\\\\\"+ mapname) # create zipfile object\n",
    "        zip_ref.extractall(rootdir + \"\\\\songdata\\\\\" + mapname[:-4]) # extract file to dir\n",
    "        zip_ref.close() # close file\n",
    "\n",
    "        "
   ]
  },
  {
   "cell_type": "code",
   "execution_count": 12,
   "metadata": {},
   "outputs": [
    {
     "output_type": "stream",
     "name": "stdout",
     "text": [
      "Requirement already satisfied: pandas in c:\\users\\vedan\\appdata\\local\\programs\\python\\python38-32\\lib\\site-packages (1.2.3)\n",
      "Requirement already satisfied: numpy>=1.16.5 in c:\\users\\vedan\\appdata\\local\\programs\\python\\python38-32\\lib\\site-packages (from pandas) (1.20.1)\n",
      "Requirement already satisfied: python-dateutil>=2.7.3 in c:\\users\\vedan\\appdata\\roaming\\python\\python38\\site-packages (from pandas) (2.8.1)\n",
      "Requirement already satisfied: pytz>=2017.3 in c:\\users\\vedan\\appdata\\local\\programs\\python\\python38-32\\lib\\site-packages (from pandas) (2020.1)\n",
      "Requirement already satisfied: six>=1.5 in c:\\users\\vedan\\appdata\\roaming\\python\\python38\\site-packages (from python-dateutil>=2.7.3->pandas) (1.14.0)\n",
      "WARNING: pip is being invoked by an old script wrapper. This will fail in a future version of pip.\n",
      "Please see https://github.com/pypa/pip/issues/5599 for advice on fixing the underlying issue.\n",
      "To avoid this problem you can invoke Python with '-m pip' instead of running pip directly.\n",
      "WARNING: You are using pip version 20.2.2; however, version 21.0.1 is available.\n",
      "You should consider upgrading via the 'C:\\Users\\vedan\\AppData\\Local\\Programs\\Python\\Python38-32\\python.exe -m pip install --upgrade pip' command.\n"
     ]
    }
   ],
   "source": [
    "import pip\n",
    "\n",
    "def install(package):\n",
    "    if hasattr(pip, 'main'):\n",
    "        pip.main(['install', package])\n",
    "    else:\n",
    "        pip._internal.main(['install', package])\n",
    "install(\"pandas\")\n",
    "import pandas as pd "
   ]
  },
  {
   "cell_type": "code",
   "execution_count": null,
   "metadata": {},
   "outputs": [],
   "source": [
    "import json\n",
    "import numpy as np"
   ]
  },
  {
   "cell_type": "code",
   "execution_count": null,
   "metadata": {},
   "outputs": [],
   "source": [
    "\n",
    "def loadmaps():\n",
    "    output = list(list())\n",
    "    rootdir = str(Path().absolute())\n",
    "    for subdir, dirs, files in os.walk(os.path.join(rootdir,\"songdata\")):\n",
    "        for file in files:\n",
    "            if file.startswith(\"Expert\"):\n",
    "                with open(os.path.join(rootdir,\"songdata\",subdir,file), 'rb') as f:\n",
    "                    loadedmapdata = json.load(f)\n",
    "                    output.append([subdir.split(\"\\\\\")[-1], loadedmapdata])\n",
    "    print(output[0][0])\n",
    "    return output"
   ]
  },
  {
   "cell_type": "code",
   "execution_count": 28,
   "metadata": {
    "tags": []
   },
   "outputs": [
    {
     "output_type": "stream",
     "name": "stdout",
     "text": [
      "15767 (Kawaki wo ameku - Aegis)\n['15767 (Kawaki wo ameku - Aegis)',       notes_lineIndex_1  notes_lineLayer_1  notes_type_1  \\\n0                   999                999           999   \n1                   999                999           999   \n2                   999                999           999   \n3                   999                999           999   \n4                   999                999           999   \n...                 ...                ...           ...   \n9476                999                999           999   \n9477                  2                  1             1   \n9478                  2                  1             1   \n9479                  3                  0             1   \n9480                  3                  0             1   \n\n      notes_cutDirection_1       _time  notes_lineIndex_0  notes_lineLayer_0  \\\n0                      999    0.000000                999                999   \n1                      999    0.062500                999                999   \n2                      999    0.125000                999                999   \n3                      999    0.187500                999                999   \n4                      999    0.250000                999                999   \n...                    ...         ...                ...                ...   \n9476                   999  535.250000                999                999   \n9477                     7  535.252136                  0                  0   \n9478                     7  535.252136                  1                  1   \n9479                     7  535.252136                  0                  0   \n9480                     7  535.252136                  1                  1   \n\n      notes_type_0  notes_cutDirection_0  notes_lineIndex_3  \\\n0              999                   999                999   \n1              999                   999                999   \n2              999                   999                999   \n3              999                   999                999   \n4              999                   999                999   \n...            ...                   ...                ...   \n9476           999                   999                999   \n9477             0                     6                999   \n9478             0                     6                999   \n9479             0                     6                999   \n9480             0                     6                999   \n\n      notes_lineLayer_3  notes_type_3  notes_cutDirection_3  \n0                   999           999                   999  \n1                   999           999                   999  \n2                   999           999                   999  \n3                   999           999                   999  \n4                   999           999                   999  \n...                 ...           ...                   ...  \n9476                999           999                   999  \n9477                999           999                   999  \n9478                999           999                   999  \n9479                999           999                   999  \n9480                999           999                   999  \n\n[9481 rows x 13 columns]]\n"
     ]
    }
   ],
   "source": [
    "\n",
    "def create_processed_data(map_files):\n",
    "    wide_beat_maps = list()\n",
    "    for beatmap in (map_files):\n",
    "        notemap = pd.DataFrame.from_dict(beatmap[1]['_notes']).add_prefix('notes')\n",
    "        notelist = list()\n",
    "        widenote = None\n",
    "        for i in range(len(notemap['notes_type'].unique())):\n",
    "            if i == 0:\n",
    "\n",
    "                #Make separate dataframe for first note type and add a suffix for the column names\n",
    "                note_type_df = notemap[notemap['notes_type'] == notemap['notes_type'].unique()[i]].reset_index()\n",
    "                note_type_df.drop('index', axis = 1, inplace=True)\n",
    "                note_type_df = note_type_df.add_suffix(f\"_{notemap['notes_type'].unique()[i]}\")\n",
    "                note_type_df['_time'] = note_type_df[f\"notes_time_{notemap['notes_type'].unique()[i]}\"]\n",
    "                note_type_df.drop(f\"notes_time_{notemap['notes_type'].unique()[i]}\", axis = 1, inplace = True)  \n",
    "                    \n",
    "                notes_b = notemap[notemap['notes_type'] == notemap['notes_type'].unique()[i+1]].reset_index()\n",
    "                notes_b.drop('index', axis = 1, inplace=True)\n",
    "                notes_b = notes_b.add_suffix(f\"_{notemap['notes_type'].unique()[i+1]}\")\n",
    "                notes_b['_time'] = notes_b[f\"notes_time_{notemap['notes_type'].unique()[i+1]}\"]\n",
    "                notes_b.drop(f\"notes_time_{notemap['notes_type'].unique()[i+1]}\", axis = 1, inplace = True)\n",
    "                widenote = pd.merge(note_type_df, notes_b, on = '_time', how = 'outer', sort = True)\n",
    "            elif i ==1:\n",
    "                continue\n",
    "            elif i>1:\n",
    "                notes_c = notemap[notemap['notes_type'] == notemap['notes_type'].unique()[i]].reset_index()\n",
    "                notes_c.drop('index', axis = 1, inplace=True)\n",
    "                notes_c = notes_c.add_suffix(f\"_{notemap['notes_type'].unique()[i]}\")\n",
    "                notes_c['_time'] = notes_c[f\"notes_time_{notemap['notes_type'].unique()[i]}\"]\n",
    "                notes_c.drop(f\"notes_time_{notemap['notes_type'].unique()[i]}\", axis = 1, inplace = True)\n",
    "                widenote = pd.merge(widenote, notes_c, on = '_time', how = 'outer', sort = True)\n",
    "        #Replace NaN with 999\n",
    "        widenote.fillna(999, inplace = True)\n",
    "        #Coerce all columns except _time back to integer\n",
    "        for col in widenote.columns:\n",
    "            if col != '_time':\n",
    "                widenote[col] = widenote[col].astype(int)\n",
    "        \n",
    "        song_len = widenote['_time'].max()\n",
    "        expand_time = pd.DataFrame(np.arange(0.00, song_len, 0.0625), columns = ['_time'])\n",
    "        expanded_notes = pd.merge(widenote, expand_time, on='_time', how = 'outer', sort = True)\n",
    "        #Replace NaN with 999\n",
    "        expanded_notes.fillna(999, inplace = True)\n",
    "        #Coerce all columns except _time back to integer\n",
    "        for col in expanded_notes.columns:\n",
    "            if col != '_time':\n",
    "                expanded_notes[col] = expanded_notes[col].astype(int)\n",
    "        wide_beat_maps.append([beatmap[0],expanded_notes])\n",
    "    return wide_beat_maps\n",
    "\n",
    "processed_dataframe_list = create_processed_data(loadmaps())\n",
    "print(processed_dataframe_list)\n",
    "\n"
   ]
  },
  {
   "cell_type": "code",
   "execution_count": null,
   "metadata": {},
   "outputs": [],
   "source": []
  },
  {
   "cell_type": "code",
   "execution_count": null,
   "metadata": {},
   "outputs": [],
   "source": []
  }
 ]
}