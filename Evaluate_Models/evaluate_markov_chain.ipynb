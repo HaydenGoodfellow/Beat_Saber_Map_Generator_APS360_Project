{
 "metadata": {
  "language_info": {
   "codemirror_mode": {
    "name": "ipython",
    "version": 3
   },
   "file_extension": ".py",
   "mimetype": "text/x-python",
   "name": "python",
   "nbconvert_exporter": "python",
   "pygments_lexer": "ipython3",
   "version": "3.8.5-final"
  },
  "orig_nbformat": 2,
  "kernelspec": {
   "name": "python3",
   "display_name": "Python 3",
   "language": "python"
  }
 },
 "nbformat": 4,
 "nbformat_minor": 2,
 "cells": [
  {
   "cell_type": "code",
   "execution_count": 7,
   "metadata": {},
   "outputs": [],
   "source": [
    "import sys\n",
    "import os\n",
    "import numpy as np\n",
    "import pandas as pd\n",
    "import string\n",
    "import json\n",
    "import pickle\n",
    "from zipfile import ZipFile\n",
    "import requests\n",
    "from io import BytesIO\n",
    "import re"
   ]
  },
  {
   "cell_type": "code",
   "execution_count": 3,
   "metadata": {},
   "outputs": [],
   "source": [
    "# Get maps dataframe back from the pickle file\n",
    "maps_df = pd.read_pickle(\"../Data_Gather_Filter_Download/downloaded_maps_df_small.pkl\")"
   ]
  },
  {
   "cell_type": "code",
   "execution_count": null,
   "metadata": {},
   "outputs": [],
   "source": [
    "def count_notes(notes, song_length):\n",
    "    counts = [0] * (song_length / 10)\n",
    "    for note in notes:\n",
    "        note_time = (note['_time'] / bpm) * 60\n",
    "        note_bucket = int(note_time / 10)\n",
    "        counts[note_bucket] += 1\n",
    "    return counts"
   ]
  },
  {
   "cell_type": "code",
   "execution_count": null,
   "metadata": {},
   "outputs": [],
   "source": [
    "def compare_model(maps_df, max_comparisons):\n",
    "    num_comparisons = 0\n",
    "    for file_path in maps_df.file_path.unique():\n",
    "        if num_comparisons > max_comparisons:\n",
    "            break\n",
    "        if file_path != \"NOT_FOUND\":\n",
    "            with ZipFile(\"../Data_Gather_Filter_Download/{}\".format(file_path)) as folder:\n",
    "                folder_name = file_path.rsplit('/', 1)[-1]\n",
    "                song_length = (maps_df.loc[maps_df['file_path'] == file_path])['length'].values[0]\n",
    "                bpm = (maps_df.loc[maps_df['file_path'] == file_path])['bpm'].values[0]\n",
    "                folder.extractall(path=\"./Comparisons/{}\".format(folder_name))\n",
    "                filenames = folder.namelist()\n",
    "                difficulties_dats = [diff for diff in filenames if diff in [\"Expert.dat\", \"ExpertPlus.dat\"]]\n",
    "                for difficulties_dat in difficulties_dats:\n",
    "                    with folder.open(difficulties_dat) as diff_dat:\n",
    "                        dat_json = json.load(diff_dat)\n",
    "                        counts = count_notes(dat_json['_notes'], song_length)\n",
    "                    \n",
    "                    \n",
    "\n",
    "    "
   ]
  },
  {
   "cell_type": "code",
   "execution_count": null,
   "metadata": {},
   "outputs": [],
   "source": []
  }
 ]
}