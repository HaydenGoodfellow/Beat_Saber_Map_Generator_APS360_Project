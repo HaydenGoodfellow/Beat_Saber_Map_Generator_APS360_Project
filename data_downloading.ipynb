{
 "cells": [
  {
   "cell_type": "code",
   "execution_count": 46,
   "metadata": {},
   "outputs": [],
   "source": [
    "import sys\r\n",
    "import os\r\n",
    "import numpy as np\r\n",
    "import pandas as pd\r\n",
    "import json\r\n",
    "import pickle\r\n",
    "import zipfile\r\n",
    "import requests\r\n",
    "from io import BytesIO\r\n",
    "import time\r\n",
    "import re"
   ]
  },
  {
   "cell_type": "code",
   "execution_count": null,
   "metadata": {},
   "outputs": [],
   "source": [
    "def download_song(download_url):\r\n",
    "    headers = {'User-Agent': 'Mozilla/5.0 (Windows NT 6.1; WOW64) AppleWebKit/537.36 (KHTML, like Gecko) Chrome/56.0.2924.76 Safari/537.36',\r\n",
    "               \"Upgrade-Insecure-Requests\": \"1\",\"DNT\": \"1\",\"Accept\": \"text/html,application/xhtml+xml,application/xml;q=0.9,*/*;q=0.8\",\r\n",
    "               \"Accept-Language\": \"en-US,en;q=0.5\",\"Accept-Encoding\": \"gzip, deflate\"}\r\n",
    "    \r\n",
    "    "
   ]
  },
  {
   "cell_type": "code",
   "execution_count": 43,
   "metadata": {},
   "outputs": [
    {
     "name": "stdout",
     "output_type": "stream",
     "text": [
      "https://beatsaver.com/api/download/key/706a\n"
     ]
    }
   ],
   "source": [
    "headers = {'User-Agent': 'Mozilla/5.0 (Windows NT 6.1; WOW64) AppleWebKit/537.36 (KHTML, like Gecko) Chrome/56.0.2924.76 Safari/537.36',\r\n",
    "               \"Upgrade-Insecure-Requests\": \"1\",\"DNT\": \"1\",\"Accept\": \"text/html,application/xhtml+xml,application/xml;q=0.9,*/*;q=0.8\",\r\n",
    "               \"Accept-Language\": \"en-US,en;q=0.5\",\"Accept-Encoding\": \"gzip, deflate\"}\r\n",
    "\r\n",
    "# page_string = \"https://beatsaver.com{}\".format(maps_df['download_URL'][37])\r\n",
    "page_string = \"https://beatsaver.com/api/download/key/706a\"\r\n",
    "print(page_string)\r\n",
    "request_data = requests.get(page_string, headers=headers)"
   ]
  },
  {
   "cell_type": "code",
   "execution_count": 49,
   "metadata": {},
   "outputs": [
    {
     "name": "stdout",
     "output_type": "stream",
     "text": [
      "1458422\n",
      "[<ZipInfo filename='cover.jpg' compress_type=deflate external_attr=0x20 file_size=188927 compress_size=163542>, <ZipInfo filename='Expert.dat' compress_type=deflate file_size=138267 compress_size=8972>, <ZipInfo filename='ExpertPlus.dat' compress_type=deflate file_size=150365 compress_size=9610>, <ZipInfo filename='Hard.dat' compress_type=deflate file_size=133258 compress_size=8612>, <ZipInfo filename='song.egg' compress_type=deflate file_size=1270757 compress_size=1266665>, <ZipInfo filename='info.dat' compress_type=deflate file_size=1524 compress_size=429>]\n"
     ]
    }
   ],
   "source": [
    "print(len(data.content))\r\n",
    "if data.status_code == 200:\r\n",
    "    # Process data which is a zip file\r\n",
    "    data_zip = BytesIO(data.content)\r\n",
    "    with ZipFile(data_zip) as folder:\r\n",
    "        print(folder.filelist)\r\n",
    "\r\n"
   ]
  },
  {
   "cell_type": "code",
   "execution_count": 21,
   "metadata": {},
   "outputs": [],
   "source": [
    "def download_all_songs(maps_df):\r\n",
    "    count = 0\r\n",
    "    for download_url in maps_df.download_URL.unique():\r\n",
    "        # if count > 3:\r\n",
    "        #     break\r\n",
    "        count += 1\r\n",
    "    print(count)"
   ]
  },
  {
   "cell_type": "code",
   "execution_count": 42,
   "metadata": {},
   "outputs": [
    {
     "name": "stdout",
     "output_type": "stream",
     "text": [
      "                                            song_name   key  \\\n",
      "701  Redo (TV Size) [Re:Zero Opening] - Konomi Suzuki  706a   \n",
      "702  Redo (TV Size) [Re:Zero Opening] - Konomi Suzuki  706a   \n",
      "\n",
      "               download_URL  difficulty    rating  notes  bombs  length   njs  \\\n",
      "701  /api/download/key/706a      expert  0.909768    412      0      90  12.0   \n",
      "702  /api/download/key/706a  expertPlus  0.909768    547      0      90  15.0   \n",
      "\n",
      "          nps  \n",
      "701  4.577778  \n",
      "702  6.077778  \n"
     ]
    }
   ],
   "source": [
    "maps_df = pd.read_pickle(\"maps_df.pkl\")\r\n",
    "\r\n",
    "# download_all_songs(maps_df)\r\n",
    "print(maps_df.loc[maps_df['key'] == \"706a\"])"
   ]
  }
 ],
 "metadata": {
  "kernelspec": {
   "display_name": "Python 3.8.3 64-bit (conda)",
   "name": "python383jvsc74a57bd058c7c12f8aebb3b799780e2a952497b720e238e6f3ceeaa6cb2f46c86be22697"
  },
  "language_info": {
   "codemirror_mode": {
    "name": "ipython",
    "version": 3
   },
   "file_extension": ".py",
   "mimetype": "text/x-python",
   "name": "python",
   "nbconvert_exporter": "python",
   "pygments_lexer": "ipython3",
   "version": "3.8.3"
  },
  "orig_nbformat": 2
 },
 "nbformat": 4,
 "nbformat_minor": 2
}