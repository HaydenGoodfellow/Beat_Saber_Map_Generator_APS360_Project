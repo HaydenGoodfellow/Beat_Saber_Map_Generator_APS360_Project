{
 "cells": [
  {
   "cell_type": "code",
   "execution_count": null,
   "metadata": {},
   "outputs": [],
   "source": [
    "pip install python-crfsuite"
   ]
  },
  {
   "cell_type": "code",
   "execution_count": null,
   "metadata": {},
   "outputs": [],
   "source": [
    "pip install scikit-learn"
   ]
  },
  {
   "cell_type": "code",
   "execution_count": null,
   "metadata": {},
   "outputs": [],
   "source": [
    "pip install sklearn-crfsuite"
   ]
  },
  {
   "cell_type": "code",
   "execution_count": null,
   "metadata": {},
   "outputs": [],
   "source": [
    "pip install nbimporter"
   ]
  },
  {
   "cell_type": "code",
   "execution_count": null,
   "metadata": {},
   "outputs": [],
   "source": [
    "pip install ipynb"
   ]
  },
  {
   "cell_type": "code",
   "execution_count": 9,
   "metadata": {},
   "outputs": [],
   "source": [
    "import sys\n",
    "import os\n",
    "import numpy as np\n",
    "import pandas as pd\n",
    "import json\n",
    "import pickle\n",
    "from zipfile import ZipFile\n",
    "import sklearn\n",
    "from sklearn.model_selection import train_test_split\n",
    "import pycrfsuite\n",
    "import scipy.stats\n",
    "import sklearn_crfsuite\n",
    "\n",
    "module_path = os.path.abspath(os.path.join('..'))\n",
    "if module_path not in sys.path:\n",
    "    sys.path.append(module_path+\"\\\\Map_Processing\")\n",
    "\n",
    "from analyze_notes import get_placement_features "
   ]
  },
  {
   "cell_type": "code",
   "execution_count": 3,
   "metadata": {},
   "outputs": [],
   "source": [
    "# Get maps dataframe from the pickle file\n",
    "maps_df = pd.read_pickle(\"../Data_Gather_Filter_Download/downloaded_maps_df.pkl\")\n",
    "\n",
    "with open('../Note_Orientation/most_common_placements.pkl', 'rb') as f:\n",
    "    most_common_placements = pickle.load(f)"
   ]
  },
  {
   "cell_type": "code",
   "execution_count": 4,
   "metadata": {},
   "outputs": [
    {
     "output_type": "stream",
     "name": "stdout",
     "text": [
      "Number of training maps: 700. Numer of validation maps: 150. Number of testing maps: 150\n"
     ]
    }
   ],
   "source": [
    "#==================================== Dataset Settings ====================================#\n",
    "# Note: We have to use a subset of all our songs as 15k maps would take days to train\n",
    "total_data_size = 1000  # Number of maps to use in across all datasets\n",
    "val_split = 0.15        # Percentage of data put into validation set\n",
    "test_split = 0.15       # Percentage of data put into testing set\n",
    "#==========================================================================================#\n",
    "\n",
    "# Split our data into training and test/val which we will split again\n",
    "train_data, val_test_data = train_test_split(maps_df[:total_data_size], test_size=val_split + test_split)\n",
    "\n",
    "# Split the validation and testing data apart into their own respective sets\n",
    "val_data, test_data = train_test_split(val_test_data, test_size=(test_split/(val_split + test_split)))\n",
    "\n",
    "print(\"Number of training maps: {}. Numer of validation maps: {}. Number of testing maps: {}\".format(len(train_data), len(val_data), len(test_data)))"
   ]
  },
  {
   "cell_type": "code",
   "execution_count": 15,
   "metadata": {
    "tags": []
   },
   "outputs": [],
   "source": [
    "# Get training data into format that can be read by model\n",
    "all_training_features = [] # Will be list of list of dictionaries\n",
    "all_training_labels = []\n",
    "for map_data in train_data.itertuples():\n",
    "    file_path = map_data.file_path\n",
    "    if file_path != \"NOT_FOUND\":\n",
    "        with ZipFile(\"../Data_Gather_Filter_Download/{}\".format(file_path)) as folder:\n",
    "            try:\n",
    "                # Open the dat file for the difficulty\n",
    "                if map_data.difficulty == 'expert':\n",
    "                    difficulty_dat = \"Expert.dat\"\n",
    "                else:\n",
    "                    difficulty_dat = \"ExpertPlus.dat\"\n",
    "                with folder.open(difficulty_dat) as diff_dat:\n",
    "                    dat_json = json.load(diff_dat)\n",
    "                    # Get the features for an entire song (dictionary with time points key feature dictionary values)\n",
    "                    features_at_time_points = get_placement_features(dat_json, most_common_placements)\n",
    "                    map_labels = []\n",
    "                    for time_point, features in features_at_time_points.items():\n",
    "                        features.pop('placement', None)\n",
    "                        map_labels.append((\"{}\".format(features['placement_index'])).encode('utf-8'))\n",
    "                        # Needs to be encoded this way for the model\n",
    "                        # features['placement_index'] = \"{}\".format(features['placement_index'])\n",
    "                        # features['prev_placement'] = \"{}\".format(features['prev_placement'])\n",
    "                        # features['next_placement'] = \"{}\".format(features['next_placement'])\n",
    "                    all_training_features.append(list(features_at_time_points.values()))\n",
    "                    all_training_labels.append(map_labels)\n",
    "            except Exception as e:\n",
    "                print(e, file_path)"
   ]
  },
  {
   "cell_type": "code",
   "execution_count": 29,
   "metadata": {},
   "outputs": [],
   "source": [
    "# Declare our CRF model using SKLearn\n",
    "crf_model = sklearn_crfsuite.CRF(algorithm='lbfgs', c1=0.1, c2=0.1, max_iterations=100)"
   ]
  },
  {
   "cell_type": "code",
   "execution_count": 30,
   "metadata": {},
   "outputs": [
    {
     "output_type": "error",
     "ename": "KeyboardInterrupt",
     "evalue": "",
     "traceback": [
      "\u001b[1;31m---------------------------------------------------------------------------\u001b[0m",
      "\u001b[1;31mKeyboardInterrupt\u001b[0m                         Traceback (most recent call last)",
      "\u001b[1;32m<timed eval>\u001b[0m in \u001b[0;36m<module>\u001b[1;34m\u001b[0m\n",
      "\u001b[1;32m~\\anaconda3\\lib\\site-packages\\sklearn_crfsuite\\estimator.py\u001b[0m in \u001b[0;36mfit\u001b[1;34m(self, X, y, X_dev, y_dev)\u001b[0m\n\u001b[0;32m    329\u001b[0m                 \u001b[0mprint\u001b[0m\u001b[1;33m(\u001b[0m\u001b[1;34m\"\"\u001b[0m\u001b[1;33m)\u001b[0m\u001b[1;33m\u001b[0m\u001b[1;33m\u001b[0m\u001b[0m\n\u001b[0;32m    330\u001b[0m \u001b[1;33m\u001b[0m\u001b[0m\n\u001b[1;32m--> 331\u001b[1;33m         \u001b[0mtrainer\u001b[0m\u001b[1;33m.\u001b[0m\u001b[0mtrain\u001b[0m\u001b[1;33m(\u001b[0m\u001b[0mself\u001b[0m\u001b[1;33m.\u001b[0m\u001b[0mmodelfile\u001b[0m\u001b[1;33m.\u001b[0m\u001b[0mname\u001b[0m\u001b[1;33m,\u001b[0m \u001b[0mholdout\u001b[0m\u001b[1;33m=\u001b[0m\u001b[1;33m-\u001b[0m\u001b[1;36m1\u001b[0m \u001b[1;32mif\u001b[0m \u001b[0mX_dev\u001b[0m \u001b[1;32mis\u001b[0m \u001b[1;32mNone\u001b[0m \u001b[1;32melse\u001b[0m \u001b[1;36m1\u001b[0m\u001b[1;33m)\u001b[0m\u001b[1;33m\u001b[0m\u001b[1;33m\u001b[0m\u001b[0m\n\u001b[0m\u001b[0;32m    332\u001b[0m         \u001b[0mself\u001b[0m\u001b[1;33m.\u001b[0m\u001b[0mtraining_log_\u001b[0m \u001b[1;33m=\u001b[0m \u001b[0mtrainer\u001b[0m\u001b[1;33m.\u001b[0m\u001b[0mlogparser\u001b[0m\u001b[1;33m\u001b[0m\u001b[1;33m\u001b[0m\u001b[0m\n\u001b[0;32m    333\u001b[0m         \u001b[1;32mreturn\u001b[0m \u001b[0mself\u001b[0m\u001b[1;33m\u001b[0m\u001b[1;33m\u001b[0m\u001b[0m\n",
      "\u001b[1;32mpycrfsuite\\_pycrfsuite.pyx\u001b[0m in \u001b[0;36mpycrfsuite._pycrfsuite.BaseTrainer.train\u001b[1;34m()\u001b[0m\n",
      "\u001b[1;32mpycrfsuite\\_pycrfsuite.pyx\u001b[0m in \u001b[0;36mpycrfsuite._pycrfsuite.BaseTrainer._on_message\u001b[1;34m()\u001b[0m\n",
      "\u001b[1;32mpycrfsuite\\_pycrfsuite.pyx\u001b[0m in \u001b[0;36mpycrfsuite._pycrfsuite.Trainer.message\u001b[1;34m()\u001b[0m\n",
      "\u001b[1;32m~\\anaconda3\\lib\\site-packages\\pycrfsuite\\_logparser.py\u001b[0m in \u001b[0;36mfeed\u001b[1;34m(self, line)\u001b[0m\n\u001b[0;32m     25\u001b[0m     \u001b[1;32mdef\u001b[0m \u001b[0mfeed\u001b[0m\u001b[1;33m(\u001b[0m\u001b[0mself\u001b[0m\u001b[1;33m,\u001b[0m \u001b[0mline\u001b[0m\u001b[1;33m)\u001b[0m\u001b[1;33m:\u001b[0m\u001b[1;33m\u001b[0m\u001b[1;33m\u001b[0m\u001b[0m\n\u001b[0;32m     26\u001b[0m         \u001b[1;31m# if line != '\\n':\u001b[0m\u001b[1;33m\u001b[0m\u001b[1;33m\u001b[0m\u001b[1;33m\u001b[0m\u001b[0m\n\u001b[1;32m---> 27\u001b[1;33m         \u001b[0mself\u001b[0m\u001b[1;33m.\u001b[0m\u001b[0mlog\u001b[0m\u001b[1;33m.\u001b[0m\u001b[0mappend\u001b[0m\u001b[1;33m(\u001b[0m\u001b[0mline\u001b[0m\u001b[1;33m)\u001b[0m\u001b[1;33m\u001b[0m\u001b[1;33m\u001b[0m\u001b[0m\n\u001b[0m\u001b[0;32m     28\u001b[0m         \u001b[1;32mif\u001b[0m \u001b[0mself\u001b[0m\u001b[1;33m.\u001b[0m\u001b[0mstate\u001b[0m \u001b[1;32mis\u001b[0m \u001b[1;32mNone\u001b[0m\u001b[1;33m:\u001b[0m\u001b[1;33m\u001b[0m\u001b[1;33m\u001b[0m\u001b[0m\n\u001b[0;32m     29\u001b[0m             \u001b[0mself\u001b[0m\u001b[1;33m.\u001b[0m\u001b[0mstate\u001b[0m \u001b[1;33m=\u001b[0m \u001b[1;34m'STARTING'\u001b[0m\u001b[1;33m\u001b[0m\u001b[1;33m\u001b[0m\u001b[0m\n",
      "\u001b[1;31mKeyboardInterrupt\u001b[0m: "
     ]
    }
   ],
   "source": [
    "%%time\n",
    "# Train our model\n",
    "crf_model.fit(all_training_features, all_training_labels)"
   ]
  },
  {
   "cell_type": "code",
   "execution_count": 28,
   "metadata": {
    "tags": [
     "outputPrepend"
    ]
   },
   "outputs": [
    {
     "output_type": "stream",
     "name": "stdout",
     "text": [
      "281\",\n        \"time_since_last_note\": \"1.0\",\n        \"time_to_next_note\": \"1.0\",\n        \"num_notes\": \"2\",\n        \"colours\": [\n            \"0\",\n            \"1\"\n        ],\n        \"rows\": [\n            \"0\",\n            \"1\"\n        ],\n        \"cols\": [\n            \"3\",\n            \"3\"\n        ],\n        \"directions\": [\n            \"3\",\n            \"3\"\n        ],\n        \"placement_count\": \"0\",\n        \"prev_placement\": \"10\",\n        \"next_placement\": \"82\"\n    },\n    {\n        \"placement_index\": \"82\",\n        \"time_point\": \"348.3520812988281\",\n        \"time_since_last_note\": \"1.0\",\n        \"time_to_next_note\": \"1.0\",\n        \"num_notes\": \"2\",\n        \"colours\": [\n            \"1\",\n            \"0\"\n        ],\n        \"rows\": [\n            \"0\",\n            \"1\"\n        ],\n        \"cols\": [\n            \"0\",\n            \"0\"\n        ],\n        \"directions\": [\n            \"2\",\n            \"2\"\n        ],\n        \"placement_count\": \"0\",\n        \"prev_placement\": \"81\",\n        \"next_placement\": \"81\"\n    },\n    {\n        \"placement_index\": \"81\",\n        \"time_point\": \"349.3520812988281\",\n        \"time_since_last_note\": \"1.0\",\n        \"time_to_next_note\": \"1.0\",\n        \"num_notes\": \"2\",\n        \"colours\": [\n            \"0\",\n            \"1\"\n        ],\n        \"rows\": [\n            \"0\",\n            \"1\"\n        ],\n        \"cols\": [\n            \"3\",\n            \"3\"\n        ],\n        \"directions\": [\n            \"3\",\n            \"3\"\n        ],\n        \"placement_count\": \"0\",\n        \"prev_placement\": \"82\",\n        \"next_placement\": \"81\"\n    },\n    {\n        \"placement_index\": \"81\",\n        \"time_point\": \"350.3520812988281\",\n        \"time_since_last_note\": \"1.0\",\n        \"time_to_next_note\": \"1.0\",\n        \"num_notes\": \"2\",\n        \"colours\": [\n            \"0\",\n            \"1\"\n        ],\n        \"rows\": [\n            \"0\",\n            \"1\"\n        ],\n        \"cols\": [\n            \"3\",\n            \"3\"\n        ],\n        \"directions\": [\n            \"3\",\n            \"3\"\n        ],\n        \"placement_count\": \"0\",\n        \"prev_placement\": \"81\",\n        \"next_placement\": \"82\"\n    },\n    {\n        \"placement_index\": \"82\",\n        \"time_point\": \"351.3520812988281\",\n        \"time_since_last_note\": \"1.0\",\n        \"time_to_next_note\": \"1.0\",\n        \"num_notes\": \"2\",\n        \"colours\": [\n            \"1\",\n            \"0\"\n        ],\n        \"rows\": [\n            \"0\",\n            \"1\"\n        ],\n        \"cols\": [\n            \"0\",\n            \"0\"\n        ],\n        \"directions\": [\n            \"2\",\n            \"2\"\n        ],\n        \"placement_count\": \"0\",\n        \"prev_placement\": \"81\",\n        \"next_placement\": \"81\"\n    },\n    {\n        \"placement_index\": \"81\",\n        \"time_point\": \"352.3520812988281\",\n        \"time_since_last_note\": \"1.0\",\n        \"time_to_next_note\": \"1.0\",\n        \"num_notes\": \"2\",\n        \"colours\": [\n            \"0\",\n            \"1\"\n        ],\n        \"rows\": [\n            \"0\",\n            \"1\"\n        ],\n        \"cols\": [\n            \"3\",\n            \"3\"\n        ],\n        \"directions\": [\n            \"3\",\n            \"3\"\n        ],\n        \"placement_count\": \"0\",\n        \"prev_placement\": \"82\",\n        \"next_placement\": \"82\"\n    },\n    {\n        \"placement_index\": \"82\",\n        \"time_point\": \"353.3520812988281\",\n        \"time_since_last_note\": \"1.0\",\n        \"time_to_next_note\": \"1.0\",\n        \"num_notes\": \"2\",\n        \"colours\": [\n            \"1\",\n            \"0\"\n        ],\n        \"rows\": [\n            \"0\",\n            \"1\"\n        ],\n        \"cols\": [\n            \"0\",\n            \"0\"\n        ],\n        \"directions\": [\n            \"2\",\n            \"2\"\n        ],\n        \"placement_count\": \"0\",\n        \"prev_placement\": \"81\",\n        \"next_placement\": \"82\"\n    },\n    {\n        \"placement_index\": \"82\",\n        \"time_point\": \"354.3520812988281\",\n        \"time_since_last_note\": \"1.0\",\n        \"time_to_next_note\": \"1.0\",\n        \"num_notes\": \"2\",\n        \"colours\": [\n            \"1\",\n            \"0\"\n        ],\n        \"rows\": [\n            \"0\",\n            \"1\"\n        ],\n        \"cols\": [\n            \"0\",\n            \"0\"\n        ],\n        \"directions\": [\n            \"2\",\n            \"2\"\n        ],\n        \"placement_count\": \"0\",\n        \"prev_placement\": \"82\",\n        \"next_placement\": \"50\"\n    },\n    {\n        \"placement_index\": \"50\",\n        \"time_point\": \"355.3520812988281\",\n        \"time_since_last_note\": \"1.0\",\n        \"time_to_next_note\": \"1.0\",\n        \"num_notes\": \"2\",\n        \"colours\": [\n            \"0\",\n            \"1\"\n        ],\n        \"rows\": [\n            \"0\",\n            \"1\"\n        ],\n        \"cols\": [\n            \"2\",\n            \"3\"\n        ],\n        \"directions\": [\n            \"7\",\n            \"7\"\n        ],\n        \"placement_count\": \"0\",\n        \"prev_placement\": \"82\",\n        \"next_placement\": \"90\"\n    },\n    {\n        \"placement_index\": \"90\",\n        \"time_point\": \"356.3520812988281\",\n        \"time_since_last_note\": \"1.0\",\n        \"time_to_next_note\": \"1.0\",\n        \"num_notes\": \"2\",\n        \"colours\": [\n            \"0\",\n            \"1\"\n        ],\n        \"rows\": [\n            \"1\",\n            \"2\"\n        ],\n        \"cols\": [\n            \"0\",\n            \"1\"\n        ],\n        \"directions\": [\n            \"4\",\n            \"4\"\n        ],\n        \"placement_count\": \"0\",\n        \"prev_placement\": \"50\",\n        \"next_placement\": \"50\"\n    },\n    {\n        \"placement_index\": \"50\",\n        \"time_point\": \"357.3520812988281\",\n        \"time_since_last_note\": \"1.0\",\n        \"time_to_next_note\": \"1.0\",\n        \"num_notes\": \"2\",\n        \"colours\": [\n            \"0\",\n            \"1\"\n        ],\n        \"rows\": [\n            \"0\",\n            \"1\"\n        ],\n        \"cols\": [\n            \"2\",\n            \"3\"\n        ],\n        \"directions\": [\n            \"7\",\n            \"7\"\n        ],\n        \"placement_count\": \"0\",\n        \"prev_placement\": \"90\",\n        \"next_placement\": \"50\"\n    },\n    {\n        \"placement_index\": \"50\",\n        \"time_point\": \"358.3520812988281\",\n        \"time_since_last_note\": \"1.0\",\n        \"time_to_next_note\": \"1.0\",\n        \"num_notes\": \"2\",\n        \"colours\": [\n            \"0\",\n            \"1\"\n        ],\n        \"rows\": [\n            \"0\",\n            \"1\"\n        ],\n        \"cols\": [\n            \"2\",\n            \"3\"\n        ],\n        \"directions\": [\n            \"7\",\n            \"7\"\n        ],\n        \"placement_count\": \"0\",\n        \"prev_placement\": \"50\",\n        \"next_placement\": \"90\"\n    },\n    {\n        \"placement_index\": \"90\",\n        \"time_point\": \"359.3520812988281\",\n        \"time_since_last_note\": \"1.0\",\n        \"time_to_next_note\": \"1.0\",\n        \"num_notes\": \"2\",\n        \"colours\": [\n            \"0\",\n            \"1\"\n        ],\n        \"rows\": [\n            \"1\",\n            \"2\"\n        ],\n        \"cols\": [\n            \"0\",\n            \"1\"\n        ],\n        \"directions\": [\n            \"4\",\n            \"4\"\n        ],\n        \"placement_count\": \"0\",\n        \"prev_placement\": \"50\",\n        \"next_placement\": \"50\"\n    },\n    {\n        \"placement_index\": \"50\",\n        \"time_point\": \"360.3520812988281\",\n        \"time_since_last_note\": \"1.0\",\n        \"time_to_next_note\": \"1.0\",\n        \"num_notes\": \"2\",\n        \"colours\": [\n            \"0\",\n            \"1\"\n        ],\n        \"rows\": [\n            \"0\",\n            \"1\"\n        ],\n        \"cols\": [\n            \"2\",\n            \"3\"\n        ],\n        \"directions\": [\n            \"7\",\n            \"7\"\n        ],\n        \"placement_count\": \"0\",\n        \"prev_placement\": \"90\",\n        \"next_placement\": \"90\"\n    },\n    {\n        \"placement_index\": \"90\",\n        \"time_point\": \"361.3520812988281\",\n        \"time_since_last_note\": \"1.0\",\n        \"time_to_next_note\": \"1.0\",\n        \"num_notes\": \"2\",\n        \"colours\": [\n            \"0\",\n            \"1\"\n        ],\n        \"rows\": [\n            \"1\",\n            \"2\"\n        ],\n        \"cols\": [\n            \"0\",\n            \"1\"\n        ],\n        \"directions\": [\n            \"4\",\n            \"4\"\n        ],\n        \"placement_count\": \"0\",\n        \"prev_placement\": \"50\",\n        \"next_placement\": \"90\"\n    },\n    {\n        \"placement_index\": \"90\",\n        \"time_point\": \"362.3520812988281\",\n        \"time_since_last_note\": \"1.0\",\n        \"time_to_next_note\": \"1.0\",\n        \"num_notes\": \"2\",\n        \"colours\": [\n            \"0\",\n            \"1\"\n        ],\n        \"rows\": [\n            \"1\",\n            \"2\"\n        ],\n        \"cols\": [\n            \"0\",\n            \"1\"\n        ],\n        \"directions\": [\n            \"4\",\n            \"4\"\n        ],\n        \"placement_count\": \"0\",\n        \"prev_placement\": \"90\",\n        \"next_placement\": \"49\"\n    },\n    {\n        \"placement_index\": \"49\",\n        \"time_point\": \"363.3520812988281\",\n        \"time_since_last_note\": \"1.0\",\n        \"time_to_next_note\": \"1.0\",\n        \"num_notes\": \"2\",\n        \"colours\": [\n            \"0\",\n            \"1\"\n        ],\n        \"rows\": [\n            \"1\",\n            \"0\"\n        ],\n        \"cols\": [\n            \"0\",\n            \"1\"\n        ],\n        \"directions\": [\n            \"6\",\n            \"6\"\n        ],\n        \"placement_count\": \"0\",\n        \"prev_placement\": \"90\",\n        \"next_placement\": \"83\"\n    },\n    {\n        \"placement_index\": \"83\",\n        \"time_point\": \"364.3520812988281\",\n        \"time_since_last_note\": \"1.0\",\n        \"time_to_next_note\": \"1.0\",\n        \"num_notes\": \"2\",\n        \"colours\": [\n            \"0\",\n            \"1\"\n        ],\n        \"rows\": [\n            \"2\",\n            \"1\"\n        ],\n        \"cols\": [\n            \"2\",\n            \"3\"\n        ],\n        \"directions\": [\n            \"5\",\n            \"5\"\n        ],\n        \"placement_count\": \"0\",\n        \"prev_placement\": \"49\",\n        \"next_placement\": \"49\"\n    },\n    {\n        \"placement_index\": \"49\",\n        \"time_point\": \"365.3520812988281\",\n        \"time_since_last_note\": \"1.0\",\n        \"time_to_next_note\": \"1.0\",\n        \"num_notes\": \"2\",\n        \"colours\": [\n            \"0\",\n            \"1\"\n        ],\n        \"rows\": [\n            \"1\",\n            \"0\"\n        ],\n        \"cols\": [\n            \"0\",\n            \"1\"\n        ],\n        \"directions\": [\n            \"6\",\n            \"6\"\n        ],\n        \"placement_count\": \"0\",\n        \"prev_placement\": \"83\",\n        \"next_placement\": \"49\"\n    },\n    {\n        \"placement_index\": \"49\",\n        \"time_point\": \"366.3520812988281\",\n        \"time_since_last_note\": \"1.0\",\n        \"time_to_next_note\": \"1.0\",\n        \"num_notes\": \"2\",\n        \"colours\": [\n            \"0\",\n            \"1\"\n        ],\n        \"rows\": [\n            \"1\",\n            \"0\"\n        ],\n        \"cols\": [\n            \"0\",\n            \"1\"\n        ],\n        \"directions\": [\n            \"6\",\n            \"6\"\n        ],\n        \"placement_count\": \"0\",\n        \"prev_placement\": \"49\",\n        \"next_placement\": \"83\"\n    },\n    {\n        \"placement_index\": \"83\",\n        \"time_point\": \"367.3520812988281\",\n        \"time_since_last_note\": \"1.0\",\n        \"time_to_next_note\": \"1.0\",\n        \"num_notes\": \"2\",\n        \"colours\": [\n            \"0\",\n            \"1\"\n        ],\n        \"rows\": [\n            \"2\",\n            \"1\"\n        ],\n        \"cols\": [\n            \"2\",\n            \"3\"\n        ],\n        \"directions\": [\n            \"5\",\n            \"5\"\n        ],\n        \"placement_count\": \"0\",\n        \"prev_placement\": \"49\",\n        \"next_placement\": \"49\"\n    },\n    {\n        \"placement_index\": \"49\",\n        \"time_point\": \"368.3520812988281\",\n        \"time_since_last_note\": \"1.0\",\n        \"time_to_next_note\": \"1.0\",\n        \"num_notes\": \"2\",\n        \"colours\": [\n            \"0\",\n            \"1\"\n        ],\n        \"rows\": [\n            \"1\",\n            \"0\"\n        ],\n        \"cols\": [\n            \"0\",\n            \"1\"\n        ],\n        \"directions\": [\n            \"6\",\n            \"6\"\n        ],\n        \"placement_count\": \"0\",\n        \"prev_placement\": \"83\",\n        \"next_placement\": \"83\"\n    },\n    {\n        \"placement_index\": \"83\",\n        \"time_point\": \"369.3520812988281\",\n        \"time_since_last_note\": \"1.0\",\n        \"time_to_next_note\": \"1.0\",\n        \"num_notes\": \"2\",\n        \"colours\": [\n            \"0\",\n            \"1\"\n        ],\n        \"rows\": [\n            \"2\",\n            \"1\"\n        ],\n        \"cols\": [\n            \"2\",\n            \"3\"\n        ],\n        \"directions\": [\n            \"5\",\n            \"5\"\n        ],\n        \"placement_count\": \"0\",\n        \"prev_placement\": \"49\",\n        \"next_placement\": \"83\"\n    },\n    {\n        \"placement_index\": \"83\",\n        \"time_point\": \"370.3520812988281\",\n        \"time_since_last_note\": \"1.0\",\n        \"time_to_next_note\": \"1.0\",\n        \"num_notes\": \"2\",\n        \"colours\": [\n            \"0\",\n            \"1\"\n        ],\n        \"rows\": [\n            \"2\",\n            \"1\"\n        ],\n        \"cols\": [\n            \"2\",\n            \"3\"\n        ],\n        \"directions\": [\n            \"5\",\n            \"5\"\n        ],\n        \"placement_count\": \"0\",\n        \"prev_placement\": \"83\",\n        \"next_placement\": \"268\"\n    },\n    {\n        \"placement_index\": \"268\",\n        \"time_point\": \"371.3520812988281\",\n        \"time_since_last_note\": \"1.0\",\n        \"time_to_next_note\": \"1.0\",\n        \"num_notes\": \"2\",\n        \"colours\": [\n            \"0\",\n            \"1\"\n        ],\n        \"rows\": [\n            \"2\",\n            \"2\"\n        ],\n        \"cols\": [\n            \"0\",\n            \"1\"\n        ],\n        \"directions\": [\n            \"4\",\n            \"4\"\n        ],\n        \"placement_count\": \"0\",\n        \"prev_placement\": \"83\",\n        \"next_placement\": \"251\"\n    },\n    {\n        \"placement_index\": \"251\",\n        \"time_point\": \"372.3520812988281\",\n        \"time_since_last_note\": \"1.0\",\n        \"time_to_next_note\": \"1.0\",\n        \"num_notes\": \"2\",\n        \"colours\": [\n            \"0\",\n            \"1\"\n        ],\n        \"rows\": [\n            \"2\",\n            \"2\"\n        ],\n        \"cols\": [\n            \"2\",\n            \"3\"\n        ],\n        \"directions\": [\n            \"5\",\n            \"5\"\n        ],\n        \"placement_count\": \"0\",\n        \"prev_placement\": \"268\",\n        \"next_placement\": \"268\"\n    },\n    {\n        \"placement_index\": \"268\",\n        \"time_point\": \"373.3520812988281\",\n        \"time_since_last_note\": \"1.0\",\n        \"time_to_next_note\": \"1.0\",\n        \"num_notes\": \"2\",\n        \"colours\": [\n            \"0\",\n            \"1\"\n        ],\n        \"rows\": [\n            \"2\",\n            \"2\"\n        ],\n        \"cols\": [\n            \"0\",\n            \"1\"\n        ],\n        \"directions\": [\n            \"4\",\n            \"4\"\n        ],\n        \"placement_count\": \"0\",\n        \"prev_placement\": \"251\",\n        \"next_placement\": \"268\"\n    },\n    {\n        \"placement_index\": \"268\",\n        \"time_point\": \"374.3520812988281\",\n        \"time_since_last_note\": \"1.0\",\n        \"time_to_next_note\": \"1.0\",\n        \"num_notes\": \"2\",\n        \"colours\": [\n            \"0\",\n            \"1\"\n        ],\n        \"rows\": [\n            \"2\",\n            \"2\"\n        ],\n        \"cols\": [\n            \"0\",\n            \"1\"\n        ],\n        \"directions\": [\n            \"4\",\n            \"4\"\n        ],\n        \"placement_count\": \"0\",\n        \"prev_placement\": \"268\",\n        \"next_placement\": \"251\"\n    },\n    {\n        \"placement_index\": \"251\",\n        \"time_point\": \"375.3520812988281\",\n        \"time_since_last_note\": \"1.0\",\n        \"time_to_next_note\": \"1.0\",\n        \"num_notes\": \"2\",\n        \"colours\": [\n            \"0\",\n            \"1\"\n        ],\n        \"rows\": [\n            \"2\",\n            \"2\"\n        ],\n        \"cols\": [\n            \"2\",\n            \"3\"\n        ],\n        \"directions\": [\n            \"5\",\n            \"5\"\n        ],\n        \"placement_count\": \"0\",\n        \"prev_placement\": \"268\",\n        \"next_placement\": \"268\"\n    },\n    {\n        \"placement_index\": \"268\",\n        \"time_point\": \"376.3520812988281\",\n        \"time_since_last_note\": \"1.0\",\n        \"time_to_next_note\": \"1.0\",\n        \"num_notes\": \"2\",\n        \"colours\": [\n            \"0\",\n            \"1\"\n        ],\n        \"rows\": [\n            \"2\",\n            \"2\"\n        ],\n        \"cols\": [\n            \"0\",\n            \"1\"\n        ],\n        \"directions\": [\n            \"4\",\n            \"4\"\n        ],\n        \"placement_count\": \"0\",\n        \"prev_placement\": \"251\",\n        \"next_placement\": \"251\"\n    },\n    {\n        \"placement_index\": \"251\",\n        \"time_point\": \"377.3520812988281\",\n        \"time_since_last_note\": \"1.0\",\n        \"time_to_next_note\": \"1.0\",\n        \"num_notes\": \"2\",\n        \"colours\": [\n            \"0\",\n            \"1\"\n        ],\n        \"rows\": [\n            \"2\",\n            \"2\"\n        ],\n        \"cols\": [\n            \"2\",\n            \"3\"\n        ],\n        \"directions\": [\n            \"5\",\n            \"5\"\n        ],\n        \"placement_count\": \"0\",\n        \"prev_placement\": \"268\",\n        \"next_placement\": \"251\"\n    },\n    {\n        \"placement_index\": \"251\",\n        \"time_point\": \"378.3520812988281\",\n        \"time_since_last_note\": \"1.0\",\n        \"time_to_next_note\": \"1.0\",\n        \"num_notes\": \"2\",\n        \"colours\": [\n            \"0\",\n            \"1\"\n        ],\n        \"rows\": [\n            \"2\",\n            \"2\"\n        ],\n        \"cols\": [\n            \"2\",\n            \"3\"\n        ],\n        \"directions\": [\n            \"5\",\n            \"5\"\n        ],\n        \"placement_count\": \"0\",\n        \"prev_placement\": \"251\",\n        \"next_placement\": \"46\"\n    },\n    {\n        \"placement_index\": \"46\",\n        \"time_point\": \"379.3520812988281\",\n        \"time_since_last_note\": \"1.0\",\n        \"time_to_next_note\": \"1.0\",\n        \"num_notes\": \"2\",\n        \"colours\": [\n            \"0\",\n            \"1\"\n        ],\n        \"rows\": [\n            \"0\",\n            \"0\"\n        ],\n        \"cols\": [\n            \"0\",\n            \"3\"\n        ],\n        \"directions\": [\n            \"1\",\n            \"1\"\n        ],\n        \"placement_count\": \"0\",\n        \"prev_placement\": \"251\",\n        \"next_placement\": \"84\"\n    },\n    {\n        \"placement_index\": \"84\",\n        \"time_point\": \"380.3520812988281\",\n        \"time_since_last_note\": \"1.0\",\n        \"time_to_next_note\": \"1.0\",\n        \"num_notes\": \"2\",\n        \"colours\": [\n            \"0\",\n            \"1\"\n        ],\n        \"rows\": [\n            \"2\",\n            \"2\"\n        ],\n        \"cols\": [\n            \"0\",\n            \"3\"\n        ],\n        \"directions\": [\n            \"0\",\n            \"0\"\n        ],\n        \"placement_count\": \"0\",\n        \"prev_placement\": \"46\",\n        \"next_placement\": \"46\"\n    },\n    {\n        \"placement_index\": \"46\",\n        \"time_point\": \"381.3520812988281\",\n        \"time_since_last_note\": \"1.0\",\n        \"time_to_next_note\": \"1.0\",\n        \"num_notes\": \"2\",\n        \"colours\": [\n            \"0\",\n            \"1\"\n        ],\n        \"rows\": [\n            \"0\",\n            \"0\"\n        ],\n        \"cols\": [\n            \"0\",\n            \"3\"\n        ],\n        \"directions\": [\n            \"1\",\n            \"1\"\n        ],\n        \"placement_count\": \"0\",\n        \"prev_placement\": \"84\",\n        \"next_placement\": \"46\"\n    },\n    {\n        \"placement_index\": \"46\",\n        \"time_point\": \"382.3520812988281\",\n        \"time_since_last_note\": \"1.0\",\n        \"time_to_next_note\": \"1.0\",\n        \"num_notes\": \"2\",\n        \"colours\": [\n            \"0\",\n            \"1\"\n        ],\n        \"rows\": [\n            \"0\",\n            \"0\"\n        ],\n        \"cols\": [\n            \"0\",\n            \"3\"\n        ],\n        \"directions\": [\n            \"1\",\n            \"1\"\n        ],\n        \"placement_count\": \"0\",\n        \"prev_placement\": \"46\",\n        \"next_placement\": \"31\"\n    },\n    {\n        \"placement_index\": \"31\",\n        \"time_point\": \"383.3520812988281\",\n        \"time_since_last_note\": \"1.0\",\n        \"time_to_next_note\": \"0\",\n        \"num_notes\": \"2\",\n        \"colours\": [\n            \"0\",\n            \"1\"\n        ],\n        \"rows\": [\n            \"2\",\n            \"2\"\n        ],\n        \"cols\": [\n            \"1\",\n            \"2\"\n        ],\n        \"directions\": [\n            \"0\",\n            \"0\"\n        ],\n        \"placement_count\": \"0\",\n        \"prev_placement\": \"46\",\n        \"next_placement\": \"0\"\n    }\n]\n"
     ]
    }
   ],
   "source": [
    "print(json.dumps(all_training_features[1], indent=4))"
   ]
  },
  {
   "cell_type": "code",
   "execution_count": null,
   "metadata": {},
   "outputs": [],
   "source": []
  }
 ],
 "metadata": {
  "kernelspec": {
   "name": "python3",
   "display_name": "Python 3.8.3 64-bit (conda)",
   "metadata": {
    "interpreter": {
     "hash": "58c7c12f8aebb3b799780e2a952497b720e238e6f3ceeaa6cb2f46c86be22697"
    }
   }
  },
  "language_info": {
   "codemirror_mode": {
    "name": "ipython",
    "version": 3
   },
   "file_extension": ".py",
   "mimetype": "text/x-python",
   "name": "python",
   "nbconvert_exporter": "python",
   "pygments_lexer": "ipython3",
   "version": "3.8.3-final"
  },
  "orig_nbformat": 2
 },
 "nbformat": 4,
 "nbformat_minor": 2
}